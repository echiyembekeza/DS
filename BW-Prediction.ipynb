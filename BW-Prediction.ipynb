{
 "cells": [
  {
   "cell_type": "code",
   "execution_count": 1,
   "metadata": {},
   "outputs": [],
   "source": [
    "import pandas as pd\n",
    "from sklearn import datasets, linear_model\n",
    "from sklearn.model_selection import train_test_split\n",
    "from matplotlib import pyplot as plt"
   ]
  },
  {
   "cell_type": "code",
   "execution_count": 3,
   "metadata": {},
   "outputs": [
    {
     "name": "stderr",
     "output_type": "stream",
     "text": [
      "/Users/ericchiyembekeza/anaconda3/lib/python3.7/site-packages/IPython/core/interactiveshell.py:3049: DtypeWarning: Columns (22,32,34,49,55) have mixed types. Specify dtype option on import or set low_memory=False.\n",
      "  interactivity=interactivity, compiler=compiler, result=result)\n",
      "/Users/ericchiyembekeza/anaconda3/lib/python3.7/site-packages/IPython/core/interactiveshell.py:3049: DtypeWarning: Columns (49) have mixed types. Specify dtype option on import or set low_memory=False.\n",
      "  interactivity=interactivity, compiler=compiler, result=result)\n"
     ]
    }
   ],
   "source": [
    "df1 = pd.read_csv('/Users/ericchiyembekeza/Desktop/Lambda School/BW-1/properties_2016.csv')\n",
    "df2 = pd.read_csv('/Users/ericchiyembekeza/Desktop/Lambda School/BW-1/properties_2017.csv')\n",
    "#train1 = pd.read_csv('/Users/ericchiyembekeza/Desktop/Lambda School/BW-1/train_2016_v2.csv')\n",
    "#train2 = pd.read_csv('/Users/ericchiyembekeza/Desktop/Lambda School/BW-1/train_2017.csv')"
   ]
  },
  {
   "cell_type": "code",
   "execution_count": 4,
   "metadata": {},
   "outputs": [],
   "source": [
    "df = pd.concat([df1,df2], ignore_index=True)\n",
    "#df_train = pd.concat([train1,train2], ignore_index=True)"
   ]
  },
  {
   "cell_type": "code",
   "execution_count": null,
   "metadata": {},
   "outputs": [],
   "source": [
    "df.columns"
   ]
  },
  {
   "cell_type": "code",
   "execution_count": 5,
   "metadata": {},
   "outputs": [],
   "source": [
    "features = ['basementsqft','bathroomcnt','bedroomcnt','calculatedfinishedsquarefeet','storytypeid', 'poolcnt', 'taxvaluedollarcnt']"
   ]
  },
  {
   "cell_type": "code",
   "execution_count": 6,
   "metadata": {},
   "outputs": [],
   "source": [
    "df = df[['basementsqft','bathroomcnt','bedroomcnt','calculatedfinishedsquarefeet','storytypeid', 'poolcnt','taxvaluedollarcnt']]"
   ]
  },
  {
   "cell_type": "code",
   "execution_count": null,
   "metadata": {},
   "outputs": [],
   "source": [
    "df.describe()"
   ]
  },
  {
   "cell_type": "code",
   "execution_count": 7,
   "metadata": {},
   "outputs": [],
   "source": [
    "for i in features:\n",
    "    df[i] = df[i].fillna((df[i].mean()))"
   ]
  },
  {
   "cell_type": "code",
   "execution_count": null,
   "metadata": {},
   "outputs": [],
   "source": [
    "df.columns"
   ]
  },
  {
   "cell_type": "code",
   "execution_count": null,
   "metadata": {},
   "outputs": [],
   "source": [
    "# df = df.fillna(method='ffill')\n",
    "# df = df.fillna(method='backfill')"
   ]
  },
  {
   "cell_type": "code",
   "execution_count": null,
   "metadata": {},
   "outputs": [],
   "source": [
    "df.shape"
   ]
  },
  {
   "cell_type": "code",
   "execution_count": null,
   "metadata": {},
   "outputs": [],
   "source": [
    "df.describe()"
   ]
  },
  {
   "cell_type": "code",
   "execution_count": 8,
   "metadata": {},
   "outputs": [],
   "source": [
    "X = df\n",
    "y = X['taxvaluedollarcnt']"
   ]
  },
  {
   "cell_type": "code",
   "execution_count": null,
   "metadata": {},
   "outputs": [],
   "source": [
    "X.columns"
   ]
  },
  {
   "cell_type": "code",
   "execution_count": null,
   "metadata": {},
   "outputs": [],
   "source": [
    "X.head()"
   ]
  },
  {
   "cell_type": "code",
   "execution_count": null,
   "metadata": {},
   "outputs": [],
   "source": []
  },
  {
   "cell_type": "code",
   "execution_count": null,
   "metadata": {},
   "outputs": [],
   "source": [
    "y = X['taxvaluedollarcnt']"
   ]
  },
  {
   "cell_type": "code",
   "execution_count": null,
   "metadata": {
    "scrolled": true
   },
   "outputs": [],
   "source": [
    "X.columns"
   ]
  },
  {
   "cell_type": "code",
   "execution_count": null,
   "metadata": {},
   "outputs": [],
   "source": [
    "X"
   ]
  },
  {
   "cell_type": "code",
   "execution_count": 9,
   "metadata": {},
   "outputs": [],
   "source": [
    "X_train, X_test, y_train, y_test = train_test_split(X, y, test_size=0.20, random_state=42)"
   ]
  },
  {
   "cell_type": "code",
   "execution_count": null,
   "metadata": {},
   "outputs": [],
   "source": [
    "X.columns"
   ]
  },
  {
   "cell_type": "code",
   "execution_count": 10,
   "metadata": {},
   "outputs": [],
   "source": [
    "X_train, X_val, y_train, y_val = train_test_split(X_train, y_train, test_size=0.20, random_state=42)"
   ]
  },
  {
   "cell_type": "code",
   "execution_count": null,
   "metadata": {},
   "outputs": [],
   "source": [
    "X.columns"
   ]
  },
  {
   "cell_type": "code",
   "execution_count": null,
   "metadata": {
    "scrolled": true
   },
   "outputs": [],
   "source": [
    "X_train.shape"
   ]
  },
  {
   "cell_type": "code",
   "execution_count": null,
   "metadata": {},
   "outputs": [],
   "source": [
    "X_train.columns"
   ]
  },
  {
   "cell_type": "code",
   "execution_count": null,
   "metadata": {},
   "outputs": [],
   "source": [
    "X_val.shape"
   ]
  },
  {
   "cell_type": "code",
   "execution_count": null,
   "metadata": {},
   "outputs": [],
   "source": [
    "y_train.shape"
   ]
  },
  {
   "cell_type": "code",
   "execution_count": null,
   "metadata": {},
   "outputs": [],
   "source": [
    "y_val.shape"
   ]
  },
  {
   "cell_type": "code",
   "execution_count": null,
   "metadata": {},
   "outputs": [],
   "source": [
    "X_test.shape"
   ]
  },
  {
   "cell_type": "code",
   "execution_count": null,
   "metadata": {},
   "outputs": [],
   "source": [
    "y_test.shape"
   ]
  },
  {
   "cell_type": "code",
   "execution_count": null,
   "metadata": {},
   "outputs": [],
   "source": [
    "X.describe()"
   ]
  },
  {
   "cell_type": "code",
   "execution_count": 11,
   "metadata": {},
   "outputs": [
    {
     "name": "stdout",
     "output_type": "stream",
     "text": [
      "Requirement already satisfied: category_encoders in /Users/ericchiyembekeza/anaconda3/lib/python3.7/site-packages (1.3.0)\n",
      "Requirement already satisfied: numpy>=1.11.1 in /Users/ericchiyembekeza/anaconda3/lib/python3.7/site-packages (from category_encoders) (1.16.2)\n",
      "Requirement already satisfied: scikit-learn>=0.17.1 in /Users/ericchiyembekeza/anaconda3/lib/python3.7/site-packages (from category_encoders) (0.20.3)\n",
      "Requirement already satisfied: scipy>=0.17.0 in /Users/ericchiyembekeza/anaconda3/lib/python3.7/site-packages (from category_encoders) (1.2.1)\n",
      "Requirement already satisfied: statsmodels>=0.6.1 in /Users/ericchiyembekeza/anaconda3/lib/python3.7/site-packages (from category_encoders) (0.9.0)\n",
      "Requirement already satisfied: pandas>=0.20.1 in /Users/ericchiyembekeza/anaconda3/lib/python3.7/site-packages (from category_encoders) (0.25.0)\n",
      "Requirement already satisfied: patsy>=0.4.1 in /Users/ericchiyembekeza/anaconda3/lib/python3.7/site-packages (from category_encoders) (0.5.1)\n",
      "Requirement already satisfied: python-dateutil>=2.6.1 in /Users/ericchiyembekeza/anaconda3/lib/python3.7/site-packages (from pandas>=0.20.1->category_encoders) (2.8.0)\n",
      "Requirement already satisfied: pytz>=2017.2 in /Users/ericchiyembekeza/anaconda3/lib/python3.7/site-packages (from pandas>=0.20.1->category_encoders) (2018.9)\n",
      "Requirement already satisfied: six in /Users/ericchiyembekeza/anaconda3/lib/python3.7/site-packages (from patsy>=0.4.1->category_encoders) (1.10.0)\n",
      "\u001b[33mWARNING: You are using pip version 19.3; however, version 19.3.1 is available.\n",
      "You should consider upgrading via the 'pip install --upgrade pip' command.\u001b[0m\n"
     ]
    }
   ],
   "source": [
    "!pip install category_encoders"
   ]
  },
  {
   "cell_type": "code",
   "execution_count": null,
   "metadata": {},
   "outputs": [],
   "source": [
    "from sklearn.metrics import mean_absolute_error\n",
    "from sklearn.metrics import r2_score\n",
    "\n",
    "#y_test = test['taxvaluedollarcnt']\n",
    "y_pred = [train['taxvaluedollarcnt'].mean()]*len(y_test)\n",
    "print(f\"MAE: {mean_absolute_error(y_test, y_pred)}\")\n",
    "print(f\"R^2: {r2_score(y_test, y_pred)}\")"
   ]
  },
  {
   "cell_type": "code",
   "execution_count": 12,
   "metadata": {},
   "outputs": [],
   "source": [
    "import category_encoders as ce\n",
    "from xgboost import XGBRegressor"
   ]
  },
  {
   "cell_type": "code",
   "execution_count": null,
   "metadata": {},
   "outputs": [],
   "source": []
  },
  {
   "cell_type": "code",
   "execution_count": 13,
   "metadata": {},
   "outputs": [],
   "source": [
    "import numpy as np\n",
    "from sklearn.model_selection import train_test_split\n",
    "\n",
    "#trainval = X_train\n",
    "#trainval_id = trainval['id'].unique()\n",
    "#train_id, val_id = train_test_split(trainval_id, random_state=42)\n",
    "#train = trainval[trainval.id.isin(train_id)]\n",
    "target = 'taxvaluedollarcnt'\n",
    "#X_train = X_train.drop(columns=target)\n",
    "#X_val = X_val.drop(columns=target)\n",
    "#X_test = X_test.drop(columns=target)\n",
    "#y_test = y_test[target]\n",
    "#y_train = y_train[target]\n",
    "#y_val = y_val[target]\n",
    "y_train_log = np.log1p(y_train)\n",
    "y_test_log = np.log1p(y_test)\n",
    "y_val_log = np.log1p(y_val)"
   ]
  },
  {
   "cell_type": "code",
   "execution_count": 14,
   "metadata": {},
   "outputs": [
    {
     "data": {
      "image/png": "[encoded data removed]",
      "text/plain": [
       "<Figure size 432x288 with 1 Axes>"
      ]
     },
     "metadata": {
      "needs_background": "light"
     },
     "output_type": "display_data"
    }
   ],
   "source": [
    "import seaborn as sns\n",
    "%matplotlib inline\n",
    "sns.distplot(y_train_log);"
   ]
  },
  {
   "cell_type": "code",
   "execution_count": 15,
   "metadata": {},
   "outputs": [
    {
     "name": "stdout",
     "output_type": "stream",
     "text": [
      "Requirement already satisfied: category_encoders in /Users/ericchiyembekeza/anaconda3/lib/python3.7/site-packages (1.3.0)\n",
      "Requirement already satisfied: numpy>=1.11.1 in /Users/ericchiyembekeza/anaconda3/lib/python3.7/site-packages (from category_encoders) (1.16.2)\n",
      "Requirement already satisfied: scikit-learn>=0.17.1 in /Users/ericchiyembekeza/anaconda3/lib/python3.7/site-packages (from category_encoders) (0.20.3)\n",
      "Requirement already satisfied: scipy>=0.17.0 in /Users/ericchiyembekeza/anaconda3/lib/python3.7/site-packages (from category_encoders) (1.2.1)\n",
      "Requirement already satisfied: statsmodels>=0.6.1 in /Users/ericchiyembekeza/anaconda3/lib/python3.7/site-packages (from category_encoders) (0.9.0)\n",
      "Requirement already satisfied: pandas>=0.20.1 in /Users/ericchiyembekeza/anaconda3/lib/python3.7/site-packages (from category_encoders) (0.25.0)\n",
      "Requirement already satisfied: patsy>=0.4.1 in /Users/ericchiyembekeza/anaconda3/lib/python3.7/site-packages (from category_encoders) (0.5.1)\n",
      "Requirement already satisfied: pytz>=2017.2 in /Users/ericchiyembekeza/anaconda3/lib/python3.7/site-packages (from pandas>=0.20.1->category_encoders) (2018.9)\n",
      "Requirement already satisfied: python-dateutil>=2.6.1 in /Users/ericchiyembekeza/anaconda3/lib/python3.7/site-packages (from pandas>=0.20.1->category_encoders) (2.8.0)\n",
      "Requirement already satisfied: six in /Users/ericchiyembekeza/anaconda3/lib/python3.7/site-packages (from patsy>=0.4.1->category_encoders) (1.10.0)\n",
      "\u001b[33mWARNING: You are using pip version 19.3; however, version 19.3.1 is available.\n",
      "You should consider upgrading via the 'pip install --upgrade pip' command.\u001b[0m\n"
     ]
    }
   ],
   "source": [
    "!pip install category_encoders"
   ]
  },
  {
   "cell_type": "code",
   "execution_count": 16,
   "metadata": {},
   "outputs": [
    {
     "name": "stderr",
     "output_type": "stream",
     "text": [
      "/Users/ericchiyembekeza/anaconda3/lib/python3.7/site-packages/xgboost/core.py:587: FutureWarning: Series.base is deprecated and will be removed in a future version\n",
      "  if getattr(data, 'base', None) is not None and \\\n"
     ]
    },
    {
     "name": "stdout",
     "output_type": "stream",
     "text": [
      "[21:34:05] WARNING: src/objective/regression_obj.cu:152: reg:linear is now deprecated in favor of reg:squarederror.\n",
      "[0]\tvalidation_0-rmse:12.014\tvalidation_1-rmse:12.0146\n",
      "Multiple eval metrics have been passed: 'validation_1-rmse' will be used for early stopping.\n",
      "\n",
      "Will train until validation_1-rmse hasn't improved in 50 rounds.\n",
      "[1]\tvalidation_0-rmse:11.9135\tvalidation_1-rmse:11.9161\n",
      "[2]\tvalidation_0-rmse:11.8137\tvalidation_1-rmse:11.817\n",
      "[3]\tvalidation_0-rmse:11.7122\tvalidation_1-rmse:11.7151\n",
      "[4]\tvalidation_0-rmse:11.6041\tvalidation_1-rmse:11.6165\n",
      "[5]\tvalidation_0-rmse:11.5065\tvalidation_1-rmse:11.5178\n",
      "[6]\tvalidation_0-rmse:11.4106\tvalidation_1-rmse:11.4168\n",
      "[7]\tvalidation_0-rmse:11.3163\tvalidation_1-rmse:11.317\n",
      "[8]\tvalidation_0-rmse:11.2193\tvalidation_1-rmse:11.2187\n",
      "[9]\tvalidation_0-rmse:11.1243\tvalidation_1-rmse:11.1176\n",
      "[10]\tvalidation_0-rmse:11.0293\tvalidation_1-rmse:11.0178\n",
      "[11]\tvalidation_0-rmse:10.9329\tvalidation_1-rmse:10.9193\n",
      "[12]\tvalidation_0-rmse:10.8338\tvalidation_1-rmse:10.8199\n",
      "[13]\tvalidation_0-rmse:10.7331\tvalidation_1-rmse:10.7193\n",
      "[14]\tvalidation_0-rmse:10.6314\tvalidation_1-rmse:10.6196\n",
      "[15]\tvalidation_0-rmse:10.5246\tvalidation_1-rmse:10.5212\n",
      "[16]\tvalidation_0-rmse:10.421\tvalidation_1-rmse:10.422\n",
      "[17]\tvalidation_0-rmse:10.3172\tvalidation_1-rmse:10.3205\n",
      "[18]\tvalidation_0-rmse:10.2085\tvalidation_1-rmse:10.2215\n",
      "[19]\tvalidation_0-rmse:10.1075\tvalidation_1-rmse:10.1224\n",
      "[20]\tvalidation_0-rmse:10.0093\tvalidation_1-rmse:10.0221\n",
      "[21]\tvalidation_0-rmse:9.91314\tvalidation_1-rmse:9.92238\n",
      "[22]\tvalidation_0-rmse:9.81427\tvalidation_1-rmse:9.82337\n",
      "[23]\tvalidation_0-rmse:9.71927\tvalidation_1-rmse:9.72411\n",
      "[24]\tvalidation_0-rmse:9.62484\tvalidation_1-rmse:9.62417\n",
      "[25]\tvalidation_0-rmse:9.53035\tvalidation_1-rmse:9.52433\n",
      "[26]\tvalidation_0-rmse:9.43598\tvalidation_1-rmse:9.42548\n",
      "[27]\tvalidation_0-rmse:9.3395\tvalidation_1-rmse:9.32576\n",
      "[28]\tvalidation_0-rmse:9.23978\tvalidation_1-rmse:9.22613\n",
      "[29]\tvalidation_0-rmse:9.13956\tvalidation_1-rmse:9.12637\n",
      "[30]\tvalidation_0-rmse:9.03381\tvalidation_1-rmse:9.02747\n",
      "[31]\tvalidation_0-rmse:8.93243\tvalidation_1-rmse:8.92867\n",
      "[32]\tvalidation_0-rmse:8.83101\tvalidation_1-rmse:8.82848\n",
      "[33]\tvalidation_0-rmse:8.72816\tvalidation_1-rmse:8.72935\n",
      "[34]\tvalidation_0-rmse:8.62822\tvalidation_1-rmse:8.62935\n",
      "[35]\tvalidation_0-rmse:8.52903\tvalidation_1-rmse:8.53062\n",
      "[36]\tvalidation_0-rmse:8.43261\tvalidation_1-rmse:8.43063\n",
      "[37]\tvalidation_0-rmse:8.33446\tvalidation_1-rmse:8.332\n",
      "[38]\tvalidation_0-rmse:8.23678\tvalidation_1-rmse:8.23161\n",
      "[39]\tvalidation_0-rmse:8.13297\tvalidation_1-rmse:8.13275\n",
      "[40]\tvalidation_0-rmse:8.0344\tvalidation_1-rmse:8.03416\n",
      "[41]\tvalidation_0-rmse:7.93597\tvalidation_1-rmse:7.9336\n",
      "[42]\tvalidation_0-rmse:7.83515\tvalidation_1-rmse:7.83479\n",
      "[43]\tvalidation_0-rmse:7.73504\tvalidation_1-rmse:7.73513\n",
      "[44]\tvalidation_0-rmse:7.63608\tvalidation_1-rmse:7.63619\n",
      "[45]\tvalidation_0-rmse:7.53749\tvalidation_1-rmse:7.53749\n",
      "[46]\tvalidation_0-rmse:7.43867\tvalidation_1-rmse:7.43722\n",
      "[47]\tvalidation_0-rmse:7.33846\tvalidation_1-rmse:7.33836\n",
      "[48]\tvalidation_0-rmse:7.24111\tvalidation_1-rmse:7.23893\n",
      "[49]\tvalidation_0-rmse:7.13941\tvalidation_1-rmse:7.14006\n",
      "[50]\tvalidation_0-rmse:7.0423\tvalidation_1-rmse:7.04109\n",
      "[51]\tvalidation_0-rmse:6.94497\tvalidation_1-rmse:6.94109\n",
      "[52]\tvalidation_0-rmse:6.84433\tvalidation_1-rmse:6.84279\n",
      "[53]\tvalidation_0-rmse:6.74634\tvalidation_1-rmse:6.74373\n",
      "[54]\tvalidation_0-rmse:6.64683\tvalidation_1-rmse:6.64409\n",
      "[55]\tvalidation_0-rmse:6.54879\tvalidation_1-rmse:6.54586\n",
      "[56]\tvalidation_0-rmse:6.4492\tvalidation_1-rmse:6.44608\n",
      "[57]\tvalidation_0-rmse:6.35027\tvalidation_1-rmse:6.3471\n",
      "[58]\tvalidation_0-rmse:6.24767\tvalidation_1-rmse:6.24884\n",
      "[59]\tvalidation_0-rmse:6.14811\tvalidation_1-rmse:6.14948\n",
      "[60]\tvalidation_0-rmse:6.05087\tvalidation_1-rmse:6.0503\n",
      "[61]\tvalidation_0-rmse:5.95401\tvalidation_1-rmse:5.95198\n",
      "[62]\tvalidation_0-rmse:5.85635\tvalidation_1-rmse:5.8527\n",
      "[63]\tvalidation_0-rmse:5.75677\tvalidation_1-rmse:5.75377\n",
      "[64]\tvalidation_0-rmse:5.65415\tvalidation_1-rmse:5.65561\n",
      "[65]\tvalidation_0-rmse:5.55584\tvalidation_1-rmse:5.55667\n",
      "[66]\tvalidation_0-rmse:5.45775\tvalidation_1-rmse:5.45829\n",
      "[67]\tvalidation_0-rmse:5.36111\tvalidation_1-rmse:5.35923\n",
      "[68]\tvalidation_0-rmse:5.26437\tvalidation_1-rmse:5.26132\n",
      "[69]\tvalidation_0-rmse:5.16476\tvalidation_1-rmse:5.1625\n",
      "[70]\tvalidation_0-rmse:5.06627\tvalidation_1-rmse:5.06365\n",
      "[71]\tvalidation_0-rmse:4.96514\tvalidation_1-rmse:4.96581\n",
      "[72]\tvalidation_0-rmse:4.86702\tvalidation_1-rmse:4.86721\n",
      "[73]\tvalidation_0-rmse:4.76771\tvalidation_1-rmse:4.76937\n",
      "[74]\tvalidation_0-rmse:4.6703\tvalidation_1-rmse:4.67086\n",
      "[75]\tvalidation_0-rmse:4.57375\tvalidation_1-rmse:4.5732\n",
      "[76]\tvalidation_0-rmse:4.47652\tvalidation_1-rmse:4.47481\n",
      "[77]\tvalidation_0-rmse:4.37715\tvalidation_1-rmse:4.37712\n",
      "[78]\tvalidation_0-rmse:4.27967\tvalidation_1-rmse:4.27911\n",
      "[79]\tvalidation_0-rmse:4.18297\tvalidation_1-rmse:4.18135\n",
      "[80]\tvalidation_0-rmse:4.08602\tvalidation_1-rmse:4.08367\n",
      "[81]\tvalidation_0-rmse:3.98825\tvalidation_1-rmse:3.98618\n",
      "[82]\tvalidation_0-rmse:3.88878\tvalidation_1-rmse:3.88869\n",
      "[83]\tvalidation_0-rmse:3.79191\tvalidation_1-rmse:3.79184\n",
      "[84]\tvalidation_0-rmse:3.69621\tvalidation_1-rmse:3.6947\n",
      "[85]\tvalidation_0-rmse:3.60021\tvalidation_1-rmse:3.59747\n",
      "[86]\tvalidation_0-rmse:3.50283\tvalidation_1-rmse:3.50082\n",
      "[87]\tvalidation_0-rmse:3.40509\tvalidation_1-rmse:3.40422\n",
      "[88]\tvalidation_0-rmse:3.30807\tvalidation_1-rmse:3.30783\n",
      "[89]\tvalidation_0-rmse:3.21255\tvalidation_1-rmse:3.21129\n",
      "[90]\tvalidation_0-rmse:3.11732\tvalidation_1-rmse:3.11545\n",
      "[91]\tvalidation_0-rmse:3.02006\tvalidation_1-rmse:3.0194\n",
      "[92]\tvalidation_0-rmse:2.92485\tvalidation_1-rmse:2.92396\n",
      "[93]\tvalidation_0-rmse:2.83018\tvalidation_1-rmse:2.82898\n",
      "[94]\tvalidation_0-rmse:2.73421\tvalidation_1-rmse:2.73405\n",
      "[95]\tvalidation_0-rmse:2.63957\tvalidation_1-rmse:2.63969\n",
      "[96]\tvalidation_0-rmse:2.54597\tvalidation_1-rmse:2.54526\n",
      "[97]\tvalidation_0-rmse:2.45215\tvalidation_1-rmse:2.45178\n",
      "[98]\tvalidation_0-rmse:2.35841\tvalidation_1-rmse:2.35876\n",
      "[99]\tvalidation_0-rmse:2.26553\tvalidation_1-rmse:2.26623\n"
     ]
    },
    {
     "data": {
      "text/plain": [
       "XGBRegressor(base_score=0.5, booster='gbtree', colsample_bylevel=1,\n",
       "       colsample_bynode=1, colsample_bytree=1, gamma=0,\n",
       "       importance_type='gain', learning_rate=0.1, max_delta_step=1,\n",
       "       max_depth=8, min_child_weight=1, missing=None, n_estimators=100,\n",
       "       n_jobs=-1, nthread=None, objective='reg:linear', random_state=0,\n",
       "       reg_alpha=0, reg_lambda=1, scale_pos_weight=1, seed=None,\n",
       "       silent=None, subsample=1, verbosity=1)"
      ]
     },
     "execution_count": 16,
     "metadata": {},
     "output_type": "execute_result"
    }
   ],
   "source": [
    "import category_encoders as ce\n",
    "from xgboost import XGBRegressor\n",
    "\n",
    "encoder = ce.OrdinalEncoder()\n",
    "xtre = encoder.fit_transform(X_train)\n",
    "xve = encoder.transform(X_val)\n",
    "\n",
    "X_test = encoder.transform(X_test)\n",
    "\n",
    "\n",
    "eval_set = [(xtre, y_train_log), (xve, y_val_log)]\n",
    "\n",
    "model = XGBRegressor(n_estimators=100, n_jobs=-1, max_depth=8, max_delta_step=1)\n",
    "model.fit(xtre, y_train_log, eval_set=eval_set, eval_metric='rmse', early_stopping_rounds=50)"
   ]
  },
  {
   "cell_type": "code",
   "execution_count": 17,
   "metadata": {},
   "outputs": [
    {
     "name": "stdout",
     "output_type": "stream",
     "text": [
      "Validation score 2.2662239722643815\n",
      "Test score 2.268304454594174\n"
     ]
    }
   ],
   "source": [
    "from sklearn.metrics import mean_squared_error\n",
    "\n",
    "def rmse(y_true, y_pred):\n",
    "  return np.sqrt(mean_squared_error(y_true, y_pred))\n",
    "\n",
    "y_pred_log = model.predict(xve)\n",
    "print('Validation score', rmse(y_val_log, y_pred_log))\n",
    "y_pred_log = model.predict(X_test)\n",
    "print('Test score', rmse(y_test_log, y_pred_log))"
   ]
  },
  {
   "cell_type": "code",
   "execution_count": null,
   "metadata": {},
   "outputs": [],
   "source": [
    "import matplotlib.pyplot as plt\n",
    "# Get feature importances\n",
    "importances = pd.Series(model.feature_importances_, xtre.columns)\n",
    "\n",
    "# Plot feature importances\n",
    "n = len(xtre.columns)\n",
    "plt.figure(figsize=(10,n/2))\n",
    "plt.title(f'Top {n} features')\n",
    "importances.sort_values()[-n:].plot.barh(color='green');"
   ]
  },
  {
   "cell_type": "code",
   "execution_count": null,
   "metadata": {},
   "outputs": [],
   "source": [
    "!pip install eli5"
   ]
  },
  {
   "cell_type": "code",
   "execution_count": null,
   "metadata": {},
   "outputs": [],
   "source": [
    "#Permutation Importances plot\n",
    "import eli5\n",
    "from eli5.sklearn import PermutationImportance\n",
    "\n",
    "permuter = PermutationImportance(model, scoring='neg_mean_squared_error',\n",
    "                                 cv='prefit', n_iter=4, random_state=42)\n",
    "\n",
    "permuter.fit(xve, y_val_log)\n",
    "feature_names = xve.columns.tolist()\n",
    "eli5.show_weights(permuter, top=None, feature_names=feature_names)"
   ]
  },
  {
   "cell_type": "code",
   "execution_count": null,
   "metadata": {},
   "outputs": [],
   "source": [
    "!pip install pdpbox"
   ]
  },
  {
   "cell_type": "code",
   "execution_count": null,
   "metadata": {},
   "outputs": [],
   "source": [
    "'basementsqft', 'bathroomcnt', 'bedroomcnt',\n",
    "       'calculatedfinishedsquarefeet', 'decktypeid', 'storytypeid', 'poolcnt',\n",
    "       'garagecarcnt'\n",
    "#Partial Dependency Plot, 1 feature isolation\n",
    "from pdpbox.pdp import pdp_isolate, pdp_plot\n",
    "\n",
    "feature = 'speed'\n",
    "\n",
    "isolated = pdp_isolate(\n",
    "    model=model, \n",
    "    dataset=xve, \n",
    "    model_features=xve.columns, \n",
    "    feature=feature\n",
    ")\n",
    "\n",
    "pdp_plot(isolated, feature_name=feature);"
   ]
  },
  {
   "cell_type": "code",
   "execution_count": null,
   "metadata": {},
   "outputs": [],
   "source": [
    "from pdpbox.pdp import pdp_isolate, pdp_plot\n",
    "\n",
    "feature = 'ram'\n",
    "\n",
    "isolated = pdp_isolate(\n",
    "    model=model, \n",
    "    dataset=xve, \n",
    "    model_features=xve.columns, \n",
    "    feature=feature\n",
    ")\n",
    "\n",
    "pdp_plot(isolated, feature_name=feature);"
   ]
  },
  {
   "cell_type": "code",
   "execution_count": null,
   "metadata": {},
   "outputs": [],
   "source": [
    "from pdpbox.pdp import pdp_isolate, pdp_plot\n",
    "\n",
    "feature = 'hd'\n",
    "\n",
    "isolated = pdp_isolate(\n",
    "    model=model, \n",
    "    dataset=xve, \n",
    "    model_features=xve.columns, \n",
    "    feature=feature\n",
    ")\n",
    "\n",
    "pdp_plot(isolated, feature_name=feature);"
   ]
  },
  {
   "cell_type": "code",
   "execution_count": null,
   "metadata": {},
   "outputs": [],
   "source": [
    "from pdpbox.pdp import pdp_isolate, pdp_plot\n",
    "\n",
    "feature = 'premium'\n",
    "\n",
    "isolated = pdp_isolate(\n",
    "    model=model, \n",
    "    dataset=xve, \n",
    "    model_features=xve.columns, \n",
    "    feature=feature\n",
    ")\n",
    "\n",
    "pdp_plot(isolated, feature_name=feature);"
   ]
  },
  {
   "cell_type": "code",
   "execution_count": null,
   "metadata": {},
   "outputs": [],
   "source": []
  },
  {
   "cell_type": "code",
   "execution_count": null,
   "metadata": {},
   "outputs": [],
   "source": [
    "#Partial Dependency Plot, 2 feature interaction\n",
    "from pdpbox.pdp import pdp_interact, pdp_interact_plot\n",
    "\n",
    "#features = ['speed', 'ram']\n",
    "\n",
    "interaction = pdp_interact(\n",
    "    model=model, \n",
    "    dataset=xve, \n",
    "    model_features=xve.columns, \n",
    "    features=features\n",
    ")\n",
    "\n",
    "pdp_interact_plot(interaction, plot_type='grid', feature_names=features);"
   ]
  },
  {
   "cell_type": "code",
   "execution_count": null,
   "metadata": {},
   "outputs": [],
   "source": [
    "#features = ['premium', 'ram']\n",
    "\n",
    "interaction = pdp_interact(\n",
    "    model=model, \n",
    "    dataset=xve, \n",
    "    model_features=xve.columns, \n",
    "    features=features\n",
    ")\n",
    "\n",
    "pdp_interact_plot(interaction, plot_type='grid', feature_names=features);"
   ]
  },
  {
   "cell_type": "code",
   "execution_count": null,
   "metadata": {},
   "outputs": [],
   "source": []
  }
 ],
 "metadata": {
  "kernelspec": {
   "display_name": "Python 3",
   "language": "python",
   "name": "python3"
  },
  "language_info": {
   "codemirror_mode": {
    "name": "ipython",
    "version": 3
   },
   "file_extension": ".py",
   "mimetype": "text/x-python",
   "name": "python",
   "nbconvert_exporter": "python",
   "pygments_lexer": "ipython3",
   "version": "3.7.3"
  }
 },
 "nbformat": 4,
 "nbformat_minor": 2
}
